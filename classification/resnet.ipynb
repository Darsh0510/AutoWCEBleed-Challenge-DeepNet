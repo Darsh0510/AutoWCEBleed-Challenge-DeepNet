{
  "cells": [
    {
      "cell_type": "code",
      "execution_count": null,
      "metadata": {
        "id": "nPQio3QALSH1",
        "colab": {
          "base_uri": "https://localhost:8080/"
        },
        "outputId": "fd7e0c36-23c6-4342-c3be-4c223c35f88d"
      },
      "outputs": [
        {
          "output_type": "stream",
          "name": "stdout",
          "text": [
            "\u001b[?25l     \u001b[90m━━━━━━━━━━━━━━━━━━━━━━━━━━━━━━━━━━━━━━━━\u001b[0m \u001b[32m0.0/179.2 kB\u001b[0m \u001b[31m?\u001b[0m eta \u001b[36m-:--:--\u001b[0m\r\u001b[2K     \u001b[90m━━━━━━━━━━━━━━━━━━━━━━━━━━━━━━━━━━━━━━━\u001b[0m \u001b[32m179.2/179.2 kB\u001b[0m \u001b[31m5.4 MB/s\u001b[0m eta \u001b[36m0:00:00\u001b[0m\n",
            "\u001b[?25h"
          ]
        }
      ],
      "source": [
        "!pip install torcheval --quiet"
      ]
    },
    {
      "cell_type": "code",
      "execution_count": null,
      "metadata": {
        "id": "J5FqIMCDCi0G"
      },
      "outputs": [],
      "source": [
        "import torch\n",
        "import torchvision\n",
        "import pandas\n",
        "import cv2 as cv\n",
        "from torchvision import transforms\n",
        "import torch.nn as nn\n",
        "import torch.nn.functional as F\n",
        "from torcheval.metrics import BinaryF1Score, BinaryRecall, BinaryPrecision, BinaryAccuracy\n",
        "from tqdm.auto import tqdm\n",
        "import time"
      ]
    },
    {
      "cell_type": "code",
      "source": [
        "model_resnet = torchvision.models.resnet18(weights=torchvision.models.ResNet18_Weights.DEFAULT)"
      ],
      "metadata": {
        "id": "ttXi_ndlOAuL",
        "colab": {
          "base_uri": "https://localhost:8080/"
        },
        "outputId": "a675e7ff-106a-4670-8419-e40eb43f5333"
      },
      "execution_count": null,
      "outputs": [
        {
          "output_type": "stream",
          "name": "stderr",
          "text": [
            "Downloading: \"https://download.pytorch.org/models/resnet18-f37072fd.pth\" to /root/.cache/torch/hub/checkpoints/resnet18-f37072fd.pth\n",
            "100%|██████████| 44.7M/44.7M [00:00<00:00, 80.4MB/s]\n"
          ]
        }
      ]
    },
    {
      "cell_type": "code",
      "source": [
        "batch_size = 128\n",
        "random_seed = 8\n",
        "torch.manual_seed(random_seed)"
      ],
      "metadata": {
        "colab": {
          "base_uri": "https://localhost:8080/"
        },
        "id": "7dw9yrdEpEDP",
        "outputId": "7e459f5d-90a7-4f30-f8b7-806e367e7bba"
      },
      "execution_count": null,
      "outputs": [
        {
          "output_type": "execute_result",
          "data": {
            "text/plain": [
              "<torch._C.Generator at 0x780b2c1ccb10>"
            ]
          },
          "metadata": {},
          "execution_count": 4
        }
      ]
    },
    {
      "cell_type": "code",
      "source": [
        "data_transforms = transforms.Compose([\n",
        "    transforms.ToTensor(),\n",
        "    transforms.Normalize((0.485, 0.456, 0.406), (0.229, 0.224, 0.225))\n",
        "])"
      ],
      "metadata": {
        "id": "QpCbkxTq1biY"
      },
      "execution_count": null,
      "outputs": []
    },
    {
      "cell_type": "code",
      "execution_count": null,
      "metadata": {
        "id": "vrCMYlzB2fKH",
        "colab": {
          "base_uri": "https://localhost:8080/"
        },
        "outputId": "2389cdaa-dc4c-4cc3-d4b7-69d1b12c8d86"
      },
      "outputs": [
        {
          "output_type": "stream",
          "name": "stdout",
          "text": [
            "['bleeding-not', 'bleeding-yes']\n"
          ]
        }
      ],
      "source": [
        "dataset = torchvision.datasets.ImageFolder(root=\"/content/drive/MyDrive/Sem_VII_project\", transform=data_transforms)\n",
        "print(dataset.classes)"
      ]
    },
    {
      "cell_type": "code",
      "execution_count": null,
      "metadata": {
        "id": "wClKktfVAKm6"
      },
      "outputs": [],
      "source": [
        "train_len = int(0.7 * len(dataset))\n",
        "val_len = int(0.1 * len(dataset))\n",
        "test_len = len(dataset) - (train_len + val_len)"
      ]
    },
    {
      "cell_type": "code",
      "execution_count": null,
      "metadata": {
        "id": "x6OJLDkL3g0A"
      },
      "outputs": [],
      "source": [
        "train_ds, val_ds, test_ds = torch.utils.data.random_split(dataset, [train_len, val_len, test_len])"
      ]
    },
    {
      "cell_type": "code",
      "execution_count": null,
      "metadata": {
        "id": "KVlQD5Ay4Yc8"
      },
      "outputs": [],
      "source": [
        "train_dl = torch.utils.data.DataLoader(train_ds, batch_size = batch_size, shuffle=True)\n",
        "valid_dl = torch.utils.data.DataLoader(val_ds, batch_size = batch_size)\n",
        "test_dl = torch.utils.data.DataLoader(test_ds)"
      ]
    },
    {
      "cell_type": "code",
      "execution_count": null,
      "metadata": {
        "id": "37_J846DqRxE"
      },
      "outputs": [],
      "source": [
        "# for param in model_resnet.parameters():\n",
        "#  param.requires_grad = False\n",
        "num_ftrs = model_resnet.fc.in_features\n",
        "model_resnet.fc = nn.Linear(in_features=num_ftrs, out_features=1)"
      ]
    },
    {
      "cell_type": "code",
      "execution_count": null,
      "metadata": {
        "id": "tHvXfz1e4Lz0",
        "colab": {
          "base_uri": "https://localhost:8080/"
        },
        "outputId": "c19845f5-0475-487e-e562-c07a193a48cc"
      },
      "outputs": [
        {
          "output_type": "stream",
          "name": "stdout",
          "text": [
            "cuda\n"
          ]
        }
      ],
      "source": [
        "if not torch.cuda.is_available():\n",
        "  device = 'cpu'\n",
        "else:\n",
        "  device = 'cuda'\n",
        "print(device)"
      ]
    },
    {
      "cell_type": "code",
      "execution_count": null,
      "metadata": {
        "id": "oICvpOg96HSs"
      },
      "outputs": [],
      "source": [
        "model_resnet.to(device)"
      ]
    },
    {
      "cell_type": "code",
      "source": [
        "metric = BinaryF1Score(device=device)\n",
        "prec = BinaryPrecision(device=device)\n",
        "recall = BinaryRecall(device=device)\n",
        "acc = BinaryAccuracy(device=device)"
      ],
      "metadata": {
        "id": "7_kgDWEhLtc_"
      },
      "execution_count": null,
      "outputs": []
    },
    {
      "cell_type": "code",
      "execution_count": null,
      "metadata": {
        "id": "qVvA-eEW2S16"
      },
      "outputs": [],
      "source": [
        "def train(epochs, model):\n",
        "  optimizer = torch.optim.Adadelta(model.parameters())\n",
        "  loss_func = nn.BCEWithLogitsLoss(reduction='mean')\n",
        "  for epoch in range(epochs):\n",
        "    time.sleep(1)\n",
        "    model.train()\n",
        "    batch=0\n",
        "    running_loss = 0\n",
        "    for _, (inputs, labels) in enumerate(tqdm(train_dl)):\n",
        "      inputs, labels = inputs.cuda(), labels.cuda()\n",
        "      optimizer.zero_grad()\n",
        "      with torch.set_grad_enabled(True):\n",
        "        outputs = model(inputs)\n",
        "        # preds = torch.round(outputs.sigmoid()).squeeze()\n",
        "        loss = loss_func(outputs, labels.float().unsqueeze(1))\n",
        "        running_loss += loss.item()\n",
        "        loss.backward()\n",
        "        optimizer.step()\n",
        "    print(f\"[+] epoch {epoch+1}/{epochs} running loss: {running_loss}\")\n",
        "    model.eval()\n",
        "    with torch.inference_mode():\n",
        "      valid_loss = 0\n",
        "      total_acc = 0\n",
        "      len_preds = 0\n",
        "      for inputs, labels in valid_dl:\n",
        "        inputs, labels = inputs.cuda(), labels.cuda()\n",
        "        outputs = model(inputs)\n",
        "        preds = outputs.sigmoid().squeeze()\n",
        "        loss = F.binary_cross_entropy(torch.sigmoid(outputs), labels.float().unsqueeze(1))\n",
        "        valid_loss += loss.item()\n",
        "        metric.update(preds, labels)\n",
        "        prec.update(preds, labels)\n",
        "        recall.update(preds, labels)\n",
        "        acc.update(preds, labels)\n",
        "      print(f\"[-] total validation loss for epoch {epoch}: {valid_loss} accuracy: {acc.compute()} precision: {prec.compute()} recall: {recall.compute()} F1Score: {metric.compute()}\")\n"
      ]
    },
    {
      "cell_type": "code",
      "execution_count": null,
      "metadata": {
        "colab": {
          "base_uri": "https://localhost:8080/",
          "height": 351,
          "referenced_widgets": [
            "ce7b5fbd7f2a44dca7807b293c592164",
            "2a3fb3ffb6984e2a8dc6260c579a3929",
            "31c9ec3dcafd4a47aff1705b00a36f34",
            "cc1a226f86b74f8c908dc8e01b307700",
            "c1c3f4c642534ea78bc26fccf3c0eed7",
            "e4ae916e3c244d178b8e5c47f55d7ea6",
            "7dcb9259de3041efb98e0f39b86362ae",
            "112516ed6d9b48feac9fb31e60958e29",
            "bd0138a9107e41a8a81762f5cae63be0",
            "512ec0391f1a4935bddcd8c955a78abc",
            "da4653d8ffee495c8427cebf05c071e4",
            "296aa6025ca149ee918f77a51d58c7fc",
            "a641d900fd2c48ddbf741b3f6a6e89ee",
            "c898cbc9cb464a8f864675192dfa5aab",
            "7ba790944ffd49379f3bfe2e54d92914",
            "aaf9c4c64f7a4eb595b7b5b80667e185",
            "76536d22dc9541b698e1efdd26d9cdb3",
            "e5137e217e144a65816b6f7596f8136f",
            "febfd7e612e94b7a92aa6ae62d011681",
            "700eac4ac55e4165a80153399c0e025c",
            "1c9bb84063144ebdb595fc02f997fb43",
            "57ec357dda9b406798743eb5d669bb49",
            "45db747e6fb14689a8d99bf68a140be7",
            "c4ab8110bd9943619db6eaa3b3c77c49",
            "92f2188eb44f4d03837bbaab32344c11",
            "990d4e4bb26f411697399a6d75de7d45",
            "eb58855ecd9d4650bece028a4e011c99",
            "84be7d0540364903abf0cba240d0bd93",
            "ddf1726530ba44af96b16f0be9f12abd",
            "9adc393041c94f2eb28f4691cbf3930c",
            "0ea3080a818d4c549c37a15ee6ff21c3",
            "6315cd5d41524ae9ac133aeb91f97e4f",
            "3d7c87801f0541948480c40a01193517",
            "b8b157e552ea4028bbc8a433a204a180",
            "5d478520aec940cba0a9846c4d56c5fd",
            "897ac0e75a1d4549b2bf32e5d6b8bc80",
            "895a553ba3bf4bbcbb49d6a83bd60faa",
            "3f1d9d90ea224bf58bce64ebfab5edb4",
            "d1455943ad8a4b0f9db04d5002746765",
            "bfd5c74ff04a40dab972b511a6c5e1a9",
            "57af7baf94534090af5f99bba8d0e94d",
            "6111b31491b24643bd39145711c17aa9",
            "9f8a780356944e068a3d9759f364a329",
            "6d4895bd15c24626965d3ec624ecee21",
            "dcad89fec8a7499b8c5aa83d2c9f27ac",
            "84fb691a35b640ab88a0cfed0daa3f89",
            "31e2a8b7e8d44d75b3b88f8c6c841151",
            "359eaa4f931a433fbda1367c64286589",
            "d4405a8857c04d7d95fe0c61d9d0d35f",
            "61863a4335984302b5a9eed76517bbac",
            "227e7fd82089491c88d5215da644cb29",
            "598d54ae2f8a4ef1b66b6458ff44ee4d",
            "66c738220b954a55b2c740ec7da98ad0",
            "cd8486f978aa44c7aeb40383da3c49c6",
            "757238daf3614c02823a1cb7d11facf2"
          ]
        },
        "id": "gR3ekK4f9ynO",
        "outputId": "0a2dc14f-5d2a-43c8-ae9b-3cc15b09abc3"
      },
      "outputs": [
        {
          "output_type": "display_data",
          "data": {
            "text/plain": [
              "  0%|          | 0/15 [00:00<?, ?it/s]"
            ],
            "application/vnd.jupyter.widget-view+json": {
              "version_major": 2,
              "version_minor": 0,
              "model_id": "ce7b5fbd7f2a44dca7807b293c592164"
            }
          },
          "metadata": {}
        },
        {
          "output_type": "stream",
          "name": "stdout",
          "text": [
            "[+] epoch 1/5 running loss: 1.6496328716748394\n",
            "[-] total validation loss for epoch 0: 1.587105412472738 accuracy: 0.8659003973007202 precision: 0.8023256063461304 recall: 0.9928057789802551 F1Score: 0.8874598145484924\n"
          ]
        },
        {
          "output_type": "display_data",
          "data": {
            "text/plain": [
              "  0%|          | 0/15 [00:00<?, ?it/s]"
            ],
            "application/vnd.jupyter.widget-view+json": {
              "version_major": 2,
              "version_minor": 0,
              "model_id": "296aa6025ca149ee918f77a51d58c7fc"
            }
          },
          "metadata": {}
        },
        {
          "output_type": "stream",
          "name": "stdout",
          "text": [
            "[+] epoch 2/5 running loss: 0.3670150625985116\n",
            "[-] total validation loss for epoch 1: 0.07132333936169744 accuracy: 0.9233716726303101 precision: 0.8888888955116272 recall: 0.9784172773361206 F1Score: 0.9315068125724792\n"
          ]
        },
        {
          "output_type": "display_data",
          "data": {
            "text/plain": [
              "  0%|          | 0/15 [00:00<?, ?it/s]"
            ],
            "application/vnd.jupyter.widget-view+json": {
              "version_major": 2,
              "version_minor": 0,
              "model_id": "45db747e6fb14689a8d99bf68a140be7"
            }
          },
          "metadata": {}
        },
        {
          "output_type": "stream",
          "name": "stdout",
          "text": [
            "[+] epoch 3/5 running loss: 0.03652457636781037\n",
            "[-] total validation loss for epoch 2: 0.029540585819631815 accuracy: 0.946360170841217 precision: 0.9213483333587646 recall: 0.9832134246826172 F1Score: 0.9512761235237122\n"
          ]
        },
        {
          "output_type": "display_data",
          "data": {
            "text/plain": [
              "  0%|          | 0/15 [00:00<?, ?it/s]"
            ],
            "application/vnd.jupyter.widget-view+json": {
              "version_major": 2,
              "version_minor": 0,
              "model_id": "b8b157e552ea4028bbc8a433a204a180"
            }
          },
          "metadata": {}
        },
        {
          "output_type": "stream",
          "name": "stdout",
          "text": [
            "[+] epoch 4/5 running loss: 0.014308024517958984\n",
            "[-] total validation loss for epoch 3: 0.03196263680001721 accuracy: 0.9578543901443481 precision: 0.9398625493049622 recall: 0.9838129281997681 F1Score: 0.9613356590270996\n"
          ]
        },
        {
          "output_type": "display_data",
          "data": {
            "text/plain": [
              "  0%|          | 0/15 [00:00<?, ?it/s]"
            ],
            "application/vnd.jupyter.widget-view+json": {
              "version_major": 2,
              "version_minor": 0,
              "model_id": "dcad89fec8a7499b8c5aa83d2c9f27ac"
            }
          },
          "metadata": {}
        },
        {
          "output_type": "stream",
          "name": "stdout",
          "text": [
            "[+] epoch 5/5 running loss: 0.007560209807706997\n",
            "[-] total validation loss for epoch 4: 0.032663044476066716 accuracy: 0.9647509455680847 precision: 0.9513213038444519 recall: 0.9841726422309875 F1Score: 0.9674682021141052\n"
          ]
        }
      ],
      "source": [
        "train(5, model_resnet)"
      ]
    },
    {
      "cell_type": "code",
      "source": [
        "def evaluate(model, test_data, eval_metric):\n",
        "  model.eval()\n",
        "  with torch.inference_mode():\n",
        "    valid_loss = 0\n",
        "    total_acc = 0\n",
        "    len_preds = 0\n",
        "    for inputs, labels in test_data:\n",
        "      inputs = inputs.cuda()\n",
        "      labels = labels.cuda()\n",
        "      outputs = model(inputs)\n",
        "      preds = torch.round(outputs.sigmoid()).squeeze(1)\n",
        "      eval_metric.update(preds, labels)\n",
        "      prec.update(preds, labels)\n",
        "      recall.update(preds, labels)\n",
        "      loss = F.binary_cross_entropy_with_logits(outputs, labels.float().unsqueeze(1))\n",
        "      valid_loss += loss.item()\n",
        "      total_acc += torch.tensor(torch.sum(preds == labels).item())\n",
        "      len_preds += len(preds)\n",
        "    print(f\"[*] total binary cross entropy loss: {valid_loss} accuracy: {total_acc/len_preds} F1Score: {metric.compute()} BinaryRecall: {recall.compute()} Precision: {prec.compute()}\")\n",
        "    eval_metric.reset()\n",
        "    prec.reset()\n",
        "    recall.reset()\n"
      ],
      "metadata": {
        "id": "Z8CFd2s5HZmE"
      },
      "execution_count": null,
      "outputs": []
    },
    {
      "cell_type": "code",
      "source": [
        "metric.reset()\n",
        "prec.reset()\n",
        "recall.reset()\n",
        "acc.reset()\n",
        "evaluate(model_resnet, test_dl, metric)"
      ],
      "metadata": {
        "id": "BfqXw5iCMcA3",
        "colab": {
          "base_uri": "https://localhost:8080/"
        },
        "outputId": "4249074e-33ad-456a-eaa0-125429601088"
      },
      "execution_count": null,
      "outputs": [
        {
          "output_type": "stream",
          "name": "stdout",
          "text": [
            "[*] total binary cross entropy loss: 1.6024465096275051 accuracy: 1.0 F1Score: 1.0 BinaryRecall: 1.0 Precision: 1.0\n"
          ]
        }
      ]
    },
    {
      "cell_type": "code",
      "source": [
        "from PIL import Image\n",
        "import os"
      ],
      "metadata": {
        "id": "y8P-cAc6tVfR"
      },
      "execution_count": null,
      "outputs": []
    },
    {
      "cell_type": "code",
      "source": [
        "path = \"/content/drive/MyDrive/Test Dataset 1\"\n",
        "d = {0.:0,\n",
        "     1.:0}\n",
        "transform = data_transforms\n",
        "for i in os.listdir(path):\n",
        "  img = Image.open(os.path.join(path, i))\n",
        "  img = transform(img)\n",
        "  img = img.to(device)\n",
        "  img = torch.unsqueeze(img, dim=0)\n",
        "  with torch.inference_mode():\n",
        "    output = model_resnet(img).squeeze()\n",
        "    pred = torch.round(output.sigmoid())\n",
        "    print(i, pred, output.sigmoid())\n",
        "    d[pred.item()] += 1\n",
        "\n",
        "\n",
        "print(d[0.], d[1.])\n",
        "\n"
      ],
      "metadata": {
        "colab": {
          "base_uri": "https://localhost:8080/"
        },
        "id": "9x8biB8Ct126",
        "outputId": "fe58eb45-ae35-4275-f8ee-f07064741e26"
      },
      "execution_count": null,
      "outputs": [
        {
          "output_type": "stream",
          "name": "stdout",
          "text": [
            "A0009.png tensor(0., device='cuda:0') tensor(3.0542e-05, device='cuda:0')\n",
            "A0008.png tensor(0., device='cuda:0') tensor(4.4112e-05, device='cuda:0')\n",
            "A0001.png tensor(0., device='cuda:0') tensor(0.0302, device='cuda:0')\n",
            "A0005.png tensor(0., device='cuda:0') tensor(0.0002, device='cuda:0')\n",
            "A0012.png tensor(0., device='cuda:0') tensor(0.0001, device='cuda:0')\n",
            "A0004.png tensor(0., device='cuda:0') tensor(3.9193e-05, device='cuda:0')\n",
            "A0016.png tensor(0., device='cuda:0') tensor(2.9878e-07, device='cuda:0')\n",
            "A0003.png tensor(0., device='cuda:0') tensor(0.0010, device='cuda:0')\n",
            "A0000.png tensor(1., device='cuda:0') tensor(0.9990, device='cuda:0')\n",
            "A0006.png tensor(0., device='cuda:0') tensor(0.0013, device='cuda:0')\n",
            "A0002.png tensor(1., device='cuda:0') tensor(0.9992, device='cuda:0')\n",
            "A0011.png tensor(0., device='cuda:0') tensor(0.0267, device='cuda:0')\n",
            "A0014.png tensor(0., device='cuda:0') tensor(3.0277e-05, device='cuda:0')\n",
            "A0013.png tensor(0., device='cuda:0') tensor(0.0007, device='cuda:0')\n",
            "A0010.png tensor(0., device='cuda:0') tensor(0.0020, device='cuda:0')\n",
            "A0017.png tensor(0., device='cuda:0') tensor(3.9889e-07, device='cuda:0')\n",
            "A0007.png tensor(0., device='cuda:0') tensor(0.0003, device='cuda:0')\n",
            "A0038.png tensor(1., device='cuda:0') tensor(0.9641, device='cuda:0')\n",
            "A0047.png tensor(0., device='cuda:0') tensor(0.0420, device='cuda:0')\n",
            "A0020.png tensor(0., device='cuda:0') tensor(0.0041, device='cuda:0')\n",
            "A0036.png tensor(0., device='cuda:0') tensor(0.4312, device='cuda:0')\n",
            "A0023.png tensor(0., device='cuda:0') tensor(0.0003, device='cuda:0')\n",
            "A0027.png tensor(0., device='cuda:0') tensor(0.0005, device='cuda:0')\n",
            "A0048.png tensor(0., device='cuda:0') tensor(1.4316e-05, device='cuda:0')\n",
            "A0018.png tensor(0., device='cuda:0') tensor(1.8038e-07, device='cuda:0')\n",
            "A0039.png tensor(1., device='cuda:0') tensor(0.9591, device='cuda:0')\n",
            "A0030.png tensor(0., device='cuda:0') tensor(0.0001, device='cuda:0')\n",
            "A0022.png tensor(0., device='cuda:0') tensor(0.0007, device='cuda:0')\n",
            "A0019.png tensor(0., device='cuda:0') tensor(8.7757e-07, device='cuda:0')\n",
            "A0044.png tensor(0., device='cuda:0') tensor(0.0044, device='cuda:0')\n",
            "A0029.png tensor(0., device='cuda:0') tensor(3.6129e-05, device='cuda:0')\n",
            "A0037.png tensor(1., device='cuda:0') tensor(0.8798, device='cuda:0')\n",
            "A0024.png tensor(0., device='cuda:0') tensor(0.0003, device='cuda:0')\n",
            "A0040.png tensor(1., device='cuda:0') tensor(0.9796, device='cuda:0')\n",
            "A0026.png tensor(0., device='cuda:0') tensor(0.0004, device='cuda:0')\n",
            "A0045.png tensor(0., device='cuda:0') tensor(0.0012, device='cuda:0')\n",
            "A0033.png tensor(1., device='cuda:0') tensor(0.8996, device='cuda:0')\n",
            "A0021.png tensor(0., device='cuda:0') tensor(0.0004, device='cuda:0')\n",
            "A0025.png tensor(0., device='cuda:0') tensor(0.0100, device='cuda:0')\n",
            "A0042.png tensor(1., device='cuda:0') tensor(0.9988, device='cuda:0')\n",
            "A0035.png tensor(1., device='cuda:0') tensor(0.9909, device='cuda:0')\n",
            "A0032.png tensor(1., device='cuda:0') tensor(0.9875, device='cuda:0')\n",
            "A0031.png tensor(0., device='cuda:0') tensor(0.0714, device='cuda:0')\n",
            "A0043.png tensor(1., device='cuda:0') tensor(0.9871, device='cuda:0')\n",
            "A0034.png tensor(1., device='cuda:0') tensor(0.9994, device='cuda:0')\n",
            "A0041.png tensor(0., device='cuda:0') tensor(0.0083, device='cuda:0')\n",
            "A0028.png tensor(0., device='cuda:0') tensor(0.0021, device='cuda:0')\n",
            "A0049.png tensor(0., device='cuda:0') tensor(1.3811e-05, device='cuda:0')\n",
            "A0046.png tensor(0., device='cuda:0') tensor(0.0014, device='cuda:0')\n",
            "37 12\n"
          ]
        }
      ]
    }
  ],
  "metadata": {
    "colab": {
      "provenance": [],
      "gpuType": "T4"
    },
    "kernelspec": {
      "display_name": "Python 3",
      "name": "python3"
    },
    "language_info": {
      "name": "python"
    },
    "accelerator": "GPU",
    "widgets": {
      "application/vnd.jupyter.widget-state+json": {
        "ce7b5fbd7f2a44dca7807b293c592164": {
          "model_module": "@jupyter-widgets/controls",
          "model_name": "HBoxModel",
          "model_module_version": "1.5.0",
          "state": {
            "_dom_classes": [],
            "_model_module": "@jupyter-widgets/controls",
            "_model_module_version": "1.5.0",
            "_model_name": "HBoxModel",
            "_view_count": null,
            "_view_module": "@jupyter-widgets/controls",
            "_view_module_version": "1.5.0",
            "_view_name": "HBoxView",
            "box_style": "",
            "children": [
              "IPY_MODEL_2a3fb3ffb6984e2a8dc6260c579a3929",
              "IPY_MODEL_31c9ec3dcafd4a47aff1705b00a36f34",
              "IPY_MODEL_cc1a226f86b74f8c908dc8e01b307700"
            ],
            "layout": "IPY_MODEL_c1c3f4c642534ea78bc26fccf3c0eed7"
          }
        },
        "2a3fb3ffb6984e2a8dc6260c579a3929": {
          "model_module": "@jupyter-widgets/controls",
          "model_name": "HTMLModel",
          "model_module_version": "1.5.0",
          "state": {
            "_dom_classes": [],
            "_model_module": "@jupyter-widgets/controls",
            "_model_module_version": "1.5.0",
            "_model_name": "HTMLModel",
            "_view_count": null,
            "_view_module": "@jupyter-widgets/controls",
            "_view_module_version": "1.5.0",
            "_view_name": "HTMLView",
            "description": "",
            "description_tooltip": null,
            "layout": "IPY_MODEL_e4ae916e3c244d178b8e5c47f55d7ea6",
            "placeholder": "​",
            "style": "IPY_MODEL_7dcb9259de3041efb98e0f39b86362ae",
            "value": "100%"
          }
        },
        "31c9ec3dcafd4a47aff1705b00a36f34": {
          "model_module": "@jupyter-widgets/controls",
          "model_name": "FloatProgressModel",
          "model_module_version": "1.5.0",
          "state": {
            "_dom_classes": [],
            "_model_module": "@jupyter-widgets/controls",
            "_model_module_version": "1.5.0",
            "_model_name": "FloatProgressModel",
            "_view_count": null,
            "_view_module": "@jupyter-widgets/controls",
            "_view_module_version": "1.5.0",
            "_view_name": "ProgressView",
            "bar_style": "success",
            "description": "",
            "description_tooltip": null,
            "layout": "IPY_MODEL_112516ed6d9b48feac9fb31e60958e29",
            "max": 15,
            "min": 0,
            "orientation": "horizontal",
            "style": "IPY_MODEL_bd0138a9107e41a8a81762f5cae63be0",
            "value": 15
          }
        },
        "cc1a226f86b74f8c908dc8e01b307700": {
          "model_module": "@jupyter-widgets/controls",
          "model_name": "HTMLModel",
          "model_module_version": "1.5.0",
          "state": {
            "_dom_classes": [],
            "_model_module": "@jupyter-widgets/controls",
            "_model_module_version": "1.5.0",
            "_model_name": "HTMLModel",
            "_view_count": null,
            "_view_module": "@jupyter-widgets/controls",
            "_view_module_version": "1.5.0",
            "_view_name": "HTMLView",
            "description": "",
            "description_tooltip": null,
            "layout": "IPY_MODEL_512ec0391f1a4935bddcd8c955a78abc",
            "placeholder": "​",
            "style": "IPY_MODEL_da4653d8ffee495c8427cebf05c071e4",
            "value": " 15/15 [00:09&lt;00:00,  1.77it/s]"
          }
        },
        "c1c3f4c642534ea78bc26fccf3c0eed7": {
          "model_module": "@jupyter-widgets/base",
          "model_name": "LayoutModel",
          "model_module_version": "1.2.0",
          "state": {
            "_model_module": "@jupyter-widgets/base",
            "_model_module_version": "1.2.0",
            "_model_name": "LayoutModel",
            "_view_count": null,
            "_view_module": "@jupyter-widgets/base",
            "_view_module_version": "1.2.0",
            "_view_name": "LayoutView",
            "align_content": null,
            "align_items": null,
            "align_self": null,
            "border": null,
            "bottom": null,
            "display": null,
            "flex": null,
            "flex_flow": null,
            "grid_area": null,
            "grid_auto_columns": null,
            "grid_auto_flow": null,
            "grid_auto_rows": null,
            "grid_column": null,
            "grid_gap": null,
            "grid_row": null,
            "grid_template_areas": null,
            "grid_template_columns": null,
            "grid_template_rows": null,
            "height": null,
            "justify_content": null,
            "justify_items": null,
            "left": null,
            "margin": null,
            "max_height": null,
            "max_width": null,
            "min_height": null,
            "min_width": null,
            "object_fit": null,
            "object_position": null,
            "order": null,
            "overflow": null,
            "overflow_x": null,
            "overflow_y": null,
            "padding": null,
            "right": null,
            "top": null,
            "visibility": null,
            "width": null
          }
        },
        "e4ae916e3c244d178b8e5c47f55d7ea6": {
          "model_module": "@jupyter-widgets/base",
          "model_name": "LayoutModel",
          "model_module_version": "1.2.0",
          "state": {
            "_model_module": "@jupyter-widgets/base",
            "_model_module_version": "1.2.0",
            "_model_name": "LayoutModel",
            "_view_count": null,
            "_view_module": "@jupyter-widgets/base",
            "_view_module_version": "1.2.0",
            "_view_name": "LayoutView",
            "align_content": null,
            "align_items": null,
            "align_self": null,
            "border": null,
            "bottom": null,
            "display": null,
            "flex": null,
            "flex_flow": null,
            "grid_area": null,
            "grid_auto_columns": null,
            "grid_auto_flow": null,
            "grid_auto_rows": null,
            "grid_column": null,
            "grid_gap": null,
            "grid_row": null,
            "grid_template_areas": null,
            "grid_template_columns": null,
            "grid_template_rows": null,
            "height": null,
            "justify_content": null,
            "justify_items": null,
            "left": null,
            "margin": null,
            "max_height": null,
            "max_width": null,
            "min_height": null,
            "min_width": null,
            "object_fit": null,
            "object_position": null,
            "order": null,
            "overflow": null,
            "overflow_x": null,
            "overflow_y": null,
            "padding": null,
            "right": null,
            "top": null,
            "visibility": null,
            "width": null
          }
        },
        "7dcb9259de3041efb98e0f39b86362ae": {
          "model_module": "@jupyter-widgets/controls",
          "model_name": "DescriptionStyleModel",
          "model_module_version": "1.5.0",
          "state": {
            "_model_module": "@jupyter-widgets/controls",
            "_model_module_version": "1.5.0",
            "_model_name": "DescriptionStyleModel",
            "_view_count": null,
            "_view_module": "@jupyter-widgets/base",
            "_view_module_version": "1.2.0",
            "_view_name": "StyleView",
            "description_width": ""
          }
        },
        "112516ed6d9b48feac9fb31e60958e29": {
          "model_module": "@jupyter-widgets/base",
          "model_name": "LayoutModel",
          "model_module_version": "1.2.0",
          "state": {
            "_model_module": "@jupyter-widgets/base",
            "_model_module_version": "1.2.0",
            "_model_name": "LayoutModel",
            "_view_count": null,
            "_view_module": "@jupyter-widgets/base",
            "_view_module_version": "1.2.0",
            "_view_name": "LayoutView",
            "align_content": null,
            "align_items": null,
            "align_self": null,
            "border": null,
            "bottom": null,
            "display": null,
            "flex": null,
            "flex_flow": null,
            "grid_area": null,
            "grid_auto_columns": null,
            "grid_auto_flow": null,
            "grid_auto_rows": null,
            "grid_column": null,
            "grid_gap": null,
            "grid_row": null,
            "grid_template_areas": null,
            "grid_template_columns": null,
            "grid_template_rows": null,
            "height": null,
            "justify_content": null,
            "justify_items": null,
            "left": null,
            "margin": null,
            "max_height": null,
            "max_width": null,
            "min_height": null,
            "min_width": null,
            "object_fit": null,
            "object_position": null,
            "order": null,
            "overflow": null,
            "overflow_x": null,
            "overflow_y": null,
            "padding": null,
            "right": null,
            "top": null,
            "visibility": null,
            "width": null
          }
        },
        "bd0138a9107e41a8a81762f5cae63be0": {
          "model_module": "@jupyter-widgets/controls",
          "model_name": "ProgressStyleModel",
          "model_module_version": "1.5.0",
          "state": {
            "_model_module": "@jupyter-widgets/controls",
            "_model_module_version": "1.5.0",
            "_model_name": "ProgressStyleModel",
            "_view_count": null,
            "_view_module": "@jupyter-widgets/base",
            "_view_module_version": "1.2.0",
            "_view_name": "StyleView",
            "bar_color": null,
            "description_width": ""
          }
        },
        "512ec0391f1a4935bddcd8c955a78abc": {
          "model_module": "@jupyter-widgets/base",
          "model_name": "LayoutModel",
          "model_module_version": "1.2.0",
          "state": {
            "_model_module": "@jupyter-widgets/base",
            "_model_module_version": "1.2.0",
            "_model_name": "LayoutModel",
            "_view_count": null,
            "_view_module": "@jupyter-widgets/base",
            "_view_module_version": "1.2.0",
            "_view_name": "LayoutView",
            "align_content": null,
            "align_items": null,
            "align_self": null,
            "border": null,
            "bottom": null,
            "display": null,
            "flex": null,
            "flex_flow": null,
            "grid_area": null,
            "grid_auto_columns": null,
            "grid_auto_flow": null,
            "grid_auto_rows": null,
            "grid_column": null,
            "grid_gap": null,
            "grid_row": null,
            "grid_template_areas": null,
            "grid_template_columns": null,
            "grid_template_rows": null,
            "height": null,
            "justify_content": null,
            "justify_items": null,
            "left": null,
            "margin": null,
            "max_height": null,
            "max_width": null,
            "min_height": null,
            "min_width": null,
            "object_fit": null,
            "object_position": null,
            "order": null,
            "overflow": null,
            "overflow_x": null,
            "overflow_y": null,
            "padding": null,
            "right": null,
            "top": null,
            "visibility": null,
            "width": null
          }
        },
        "da4653d8ffee495c8427cebf05c071e4": {
          "model_module": "@jupyter-widgets/controls",
          "model_name": "DescriptionStyleModel",
          "model_module_version": "1.5.0",
          "state": {
            "_model_module": "@jupyter-widgets/controls",
            "_model_module_version": "1.5.0",
            "_model_name": "DescriptionStyleModel",
            "_view_count": null,
            "_view_module": "@jupyter-widgets/base",
            "_view_module_version": "1.2.0",
            "_view_name": "StyleView",
            "description_width": ""
          }
        },
        "296aa6025ca149ee918f77a51d58c7fc": {
          "model_module": "@jupyter-widgets/controls",
          "model_name": "HBoxModel",
          "model_module_version": "1.5.0",
          "state": {
            "_dom_classes": [],
            "_model_module": "@jupyter-widgets/controls",
            "_model_module_version": "1.5.0",
            "_model_name": "HBoxModel",
            "_view_count": null,
            "_view_module": "@jupyter-widgets/controls",
            "_view_module_version": "1.5.0",
            "_view_name": "HBoxView",
            "box_style": "",
            "children": [
              "IPY_MODEL_a641d900fd2c48ddbf741b3f6a6e89ee",
              "IPY_MODEL_c898cbc9cb464a8f864675192dfa5aab",
              "IPY_MODEL_7ba790944ffd49379f3bfe2e54d92914"
            ],
            "layout": "IPY_MODEL_aaf9c4c64f7a4eb595b7b5b80667e185"
          }
        },
        "a641d900fd2c48ddbf741b3f6a6e89ee": {
          "model_module": "@jupyter-widgets/controls",
          "model_name": "HTMLModel",
          "model_module_version": "1.5.0",
          "state": {
            "_dom_classes": [],
            "_model_module": "@jupyter-widgets/controls",
            "_model_module_version": "1.5.0",
            "_model_name": "HTMLModel",
            "_view_count": null,
            "_view_module": "@jupyter-widgets/controls",
            "_view_module_version": "1.5.0",
            "_view_name": "HTMLView",
            "description": "",
            "description_tooltip": null,
            "layout": "IPY_MODEL_76536d22dc9541b698e1efdd26d9cdb3",
            "placeholder": "​",
            "style": "IPY_MODEL_e5137e217e144a65816b6f7596f8136f",
            "value": "100%"
          }
        },
        "c898cbc9cb464a8f864675192dfa5aab": {
          "model_module": "@jupyter-widgets/controls",
          "model_name": "FloatProgressModel",
          "model_module_version": "1.5.0",
          "state": {
            "_dom_classes": [],
            "_model_module": "@jupyter-widgets/controls",
            "_model_module_version": "1.5.0",
            "_model_name": "FloatProgressModel",
            "_view_count": null,
            "_view_module": "@jupyter-widgets/controls",
            "_view_module_version": "1.5.0",
            "_view_name": "ProgressView",
            "bar_style": "success",
            "description": "",
            "description_tooltip": null,
            "layout": "IPY_MODEL_febfd7e612e94b7a92aa6ae62d011681",
            "max": 15,
            "min": 0,
            "orientation": "horizontal",
            "style": "IPY_MODEL_700eac4ac55e4165a80153399c0e025c",
            "value": 15
          }
        },
        "7ba790944ffd49379f3bfe2e54d92914": {
          "model_module": "@jupyter-widgets/controls",
          "model_name": "HTMLModel",
          "model_module_version": "1.5.0",
          "state": {
            "_dom_classes": [],
            "_model_module": "@jupyter-widgets/controls",
            "_model_module_version": "1.5.0",
            "_model_name": "HTMLModel",
            "_view_count": null,
            "_view_module": "@jupyter-widgets/controls",
            "_view_module_version": "1.5.0",
            "_view_name": "HTMLView",
            "description": "",
            "description_tooltip": null,
            "layout": "IPY_MODEL_1c9bb84063144ebdb595fc02f997fb43",
            "placeholder": "​",
            "style": "IPY_MODEL_57ec357dda9b406798743eb5d669bb49",
            "value": " 15/15 [00:09&lt;00:00,  1.76it/s]"
          }
        },
        "aaf9c4c64f7a4eb595b7b5b80667e185": {
          "model_module": "@jupyter-widgets/base",
          "model_name": "LayoutModel",
          "model_module_version": "1.2.0",
          "state": {
            "_model_module": "@jupyter-widgets/base",
            "_model_module_version": "1.2.0",
            "_model_name": "LayoutModel",
            "_view_count": null,
            "_view_module": "@jupyter-widgets/base",
            "_view_module_version": "1.2.0",
            "_view_name": "LayoutView",
            "align_content": null,
            "align_items": null,
            "align_self": null,
            "border": null,
            "bottom": null,
            "display": null,
            "flex": null,
            "flex_flow": null,
            "grid_area": null,
            "grid_auto_columns": null,
            "grid_auto_flow": null,
            "grid_auto_rows": null,
            "grid_column": null,
            "grid_gap": null,
            "grid_row": null,
            "grid_template_areas": null,
            "grid_template_columns": null,
            "grid_template_rows": null,
            "height": null,
            "justify_content": null,
            "justify_items": null,
            "left": null,
            "margin": null,
            "max_height": null,
            "max_width": null,
            "min_height": null,
            "min_width": null,
            "object_fit": null,
            "object_position": null,
            "order": null,
            "overflow": null,
            "overflow_x": null,
            "overflow_y": null,
            "padding": null,
            "right": null,
            "top": null,
            "visibility": null,
            "width": null
          }
        },
        "76536d22dc9541b698e1efdd26d9cdb3": {
          "model_module": "@jupyter-widgets/base",
          "model_name": "LayoutModel",
          "model_module_version": "1.2.0",
          "state": {
            "_model_module": "@jupyter-widgets/base",
            "_model_module_version": "1.2.0",
            "_model_name": "LayoutModel",
            "_view_count": null,
            "_view_module": "@jupyter-widgets/base",
            "_view_module_version": "1.2.0",
            "_view_name": "LayoutView",
            "align_content": null,
            "align_items": null,
            "align_self": null,
            "border": null,
            "bottom": null,
            "display": null,
            "flex": null,
            "flex_flow": null,
            "grid_area": null,
            "grid_auto_columns": null,
            "grid_auto_flow": null,
            "grid_auto_rows": null,
            "grid_column": null,
            "grid_gap": null,
            "grid_row": null,
            "grid_template_areas": null,
            "grid_template_columns": null,
            "grid_template_rows": null,
            "height": null,
            "justify_content": null,
            "justify_items": null,
            "left": null,
            "margin": null,
            "max_height": null,
            "max_width": null,
            "min_height": null,
            "min_width": null,
            "object_fit": null,
            "object_position": null,
            "order": null,
            "overflow": null,
            "overflow_x": null,
            "overflow_y": null,
            "padding": null,
            "right": null,
            "top": null,
            "visibility": null,
            "width": null
          }
        },
        "e5137e217e144a65816b6f7596f8136f": {
          "model_module": "@jupyter-widgets/controls",
          "model_name": "DescriptionStyleModel",
          "model_module_version": "1.5.0",
          "state": {
            "_model_module": "@jupyter-widgets/controls",
            "_model_module_version": "1.5.0",
            "_model_name": "DescriptionStyleModel",
            "_view_count": null,
            "_view_module": "@jupyter-widgets/base",
            "_view_module_version": "1.2.0",
            "_view_name": "StyleView",
            "description_width": ""
          }
        },
        "febfd7e612e94b7a92aa6ae62d011681": {
          "model_module": "@jupyter-widgets/base",
          "model_name": "LayoutModel",
          "model_module_version": "1.2.0",
          "state": {
            "_model_module": "@jupyter-widgets/base",
            "_model_module_version": "1.2.0",
            "_model_name": "LayoutModel",
            "_view_count": null,
            "_view_module": "@jupyter-widgets/base",
            "_view_module_version": "1.2.0",
            "_view_name": "LayoutView",
            "align_content": null,
            "align_items": null,
            "align_self": null,
            "border": null,
            "bottom": null,
            "display": null,
            "flex": null,
            "flex_flow": null,
            "grid_area": null,
            "grid_auto_columns": null,
            "grid_auto_flow": null,
            "grid_auto_rows": null,
            "grid_column": null,
            "grid_gap": null,
            "grid_row": null,
            "grid_template_areas": null,
            "grid_template_columns": null,
            "grid_template_rows": null,
            "height": null,
            "justify_content": null,
            "justify_items": null,
            "left": null,
            "margin": null,
            "max_height": null,
            "max_width": null,
            "min_height": null,
            "min_width": null,
            "object_fit": null,
            "object_position": null,
            "order": null,
            "overflow": null,
            "overflow_x": null,
            "overflow_y": null,
            "padding": null,
            "right": null,
            "top": null,
            "visibility": null,
            "width": null
          }
        },
        "700eac4ac55e4165a80153399c0e025c": {
          "model_module": "@jupyter-widgets/controls",
          "model_name": "ProgressStyleModel",
          "model_module_version": "1.5.0",
          "state": {
            "_model_module": "@jupyter-widgets/controls",
            "_model_module_version": "1.5.0",
            "_model_name": "ProgressStyleModel",
            "_view_count": null,
            "_view_module": "@jupyter-widgets/base",
            "_view_module_version": "1.2.0",
            "_view_name": "StyleView",
            "bar_color": null,
            "description_width": ""
          }
        },
        "1c9bb84063144ebdb595fc02f997fb43": {
          "model_module": "@jupyter-widgets/base",
          "model_name": "LayoutModel",
          "model_module_version": "1.2.0",
          "state": {
            "_model_module": "@jupyter-widgets/base",
            "_model_module_version": "1.2.0",
            "_model_name": "LayoutModel",
            "_view_count": null,
            "_view_module": "@jupyter-widgets/base",
            "_view_module_version": "1.2.0",
            "_view_name": "LayoutView",
            "align_content": null,
            "align_items": null,
            "align_self": null,
            "border": null,
            "bottom": null,
            "display": null,
            "flex": null,
            "flex_flow": null,
            "grid_area": null,
            "grid_auto_columns": null,
            "grid_auto_flow": null,
            "grid_auto_rows": null,
            "grid_column": null,
            "grid_gap": null,
            "grid_row": null,
            "grid_template_areas": null,
            "grid_template_columns": null,
            "grid_template_rows": null,
            "height": null,
            "justify_content": null,
            "justify_items": null,
            "left": null,
            "margin": null,
            "max_height": null,
            "max_width": null,
            "min_height": null,
            "min_width": null,
            "object_fit": null,
            "object_position": null,
            "order": null,
            "overflow": null,
            "overflow_x": null,
            "overflow_y": null,
            "padding": null,
            "right": null,
            "top": null,
            "visibility": null,
            "width": null
          }
        },
        "57ec357dda9b406798743eb5d669bb49": {
          "model_module": "@jupyter-widgets/controls",
          "model_name": "DescriptionStyleModel",
          "model_module_version": "1.5.0",
          "state": {
            "_model_module": "@jupyter-widgets/controls",
            "_model_module_version": "1.5.0",
            "_model_name": "DescriptionStyleModel",
            "_view_count": null,
            "_view_module": "@jupyter-widgets/base",
            "_view_module_version": "1.2.0",
            "_view_name": "StyleView",
            "description_width": ""
          }
        },
        "45db747e6fb14689a8d99bf68a140be7": {
          "model_module": "@jupyter-widgets/controls",
          "model_name": "HBoxModel",
          "model_module_version": "1.5.0",
          "state": {
            "_dom_classes": [],
            "_model_module": "@jupyter-widgets/controls",
            "_model_module_version": "1.5.0",
            "_model_name": "HBoxModel",
            "_view_count": null,
            "_view_module": "@jupyter-widgets/controls",
            "_view_module_version": "1.5.0",
            "_view_name": "HBoxView",
            "box_style": "",
            "children": [
              "IPY_MODEL_c4ab8110bd9943619db6eaa3b3c77c49",
              "IPY_MODEL_92f2188eb44f4d03837bbaab32344c11",
              "IPY_MODEL_990d4e4bb26f411697399a6d75de7d45"
            ],
            "layout": "IPY_MODEL_eb58855ecd9d4650bece028a4e011c99"
          }
        },
        "c4ab8110bd9943619db6eaa3b3c77c49": {
          "model_module": "@jupyter-widgets/controls",
          "model_name": "HTMLModel",
          "model_module_version": "1.5.0",
          "state": {
            "_dom_classes": [],
            "_model_module": "@jupyter-widgets/controls",
            "_model_module_version": "1.5.0",
            "_model_name": "HTMLModel",
            "_view_count": null,
            "_view_module": "@jupyter-widgets/controls",
            "_view_module_version": "1.5.0",
            "_view_name": "HTMLView",
            "description": "",
            "description_tooltip": null,
            "layout": "IPY_MODEL_84be7d0540364903abf0cba240d0bd93",
            "placeholder": "​",
            "style": "IPY_MODEL_ddf1726530ba44af96b16f0be9f12abd",
            "value": "100%"
          }
        },
        "92f2188eb44f4d03837bbaab32344c11": {
          "model_module": "@jupyter-widgets/controls",
          "model_name": "FloatProgressModel",
          "model_module_version": "1.5.0",
          "state": {
            "_dom_classes": [],
            "_model_module": "@jupyter-widgets/controls",
            "_model_module_version": "1.5.0",
            "_model_name": "FloatProgressModel",
            "_view_count": null,
            "_view_module": "@jupyter-widgets/controls",
            "_view_module_version": "1.5.0",
            "_view_name": "ProgressView",
            "bar_style": "success",
            "description": "",
            "description_tooltip": null,
            "layout": "IPY_MODEL_9adc393041c94f2eb28f4691cbf3930c",
            "max": 15,
            "min": 0,
            "orientation": "horizontal",
            "style": "IPY_MODEL_0ea3080a818d4c549c37a15ee6ff21c3",
            "value": 15
          }
        },
        "990d4e4bb26f411697399a6d75de7d45": {
          "model_module": "@jupyter-widgets/controls",
          "model_name": "HTMLModel",
          "model_module_version": "1.5.0",
          "state": {
            "_dom_classes": [],
            "_model_module": "@jupyter-widgets/controls",
            "_model_module_version": "1.5.0",
            "_model_name": "HTMLModel",
            "_view_count": null,
            "_view_module": "@jupyter-widgets/controls",
            "_view_module_version": "1.5.0",
            "_view_name": "HTMLView",
            "description": "",
            "description_tooltip": null,
            "layout": "IPY_MODEL_6315cd5d41524ae9ac133aeb91f97e4f",
            "placeholder": "​",
            "style": "IPY_MODEL_3d7c87801f0541948480c40a01193517",
            "value": " 15/15 [00:10&lt;00:00,  1.73it/s]"
          }
        },
        "eb58855ecd9d4650bece028a4e011c99": {
          "model_module": "@jupyter-widgets/base",
          "model_name": "LayoutModel",
          "model_module_version": "1.2.0",
          "state": {
            "_model_module": "@jupyter-widgets/base",
            "_model_module_version": "1.2.0",
            "_model_name": "LayoutModel",
            "_view_count": null,
            "_view_module": "@jupyter-widgets/base",
            "_view_module_version": "1.2.0",
            "_view_name": "LayoutView",
            "align_content": null,
            "align_items": null,
            "align_self": null,
            "border": null,
            "bottom": null,
            "display": null,
            "flex": null,
            "flex_flow": null,
            "grid_area": null,
            "grid_auto_columns": null,
            "grid_auto_flow": null,
            "grid_auto_rows": null,
            "grid_column": null,
            "grid_gap": null,
            "grid_row": null,
            "grid_template_areas": null,
            "grid_template_columns": null,
            "grid_template_rows": null,
            "height": null,
            "justify_content": null,
            "justify_items": null,
            "left": null,
            "margin": null,
            "max_height": null,
            "max_width": null,
            "min_height": null,
            "min_width": null,
            "object_fit": null,
            "object_position": null,
            "order": null,
            "overflow": null,
            "overflow_x": null,
            "overflow_y": null,
            "padding": null,
            "right": null,
            "top": null,
            "visibility": null,
            "width": null
          }
        },
        "84be7d0540364903abf0cba240d0bd93": {
          "model_module": "@jupyter-widgets/base",
          "model_name": "LayoutModel",
          "model_module_version": "1.2.0",
          "state": {
            "_model_module": "@jupyter-widgets/base",
            "_model_module_version": "1.2.0",
            "_model_name": "LayoutModel",
            "_view_count": null,
            "_view_module": "@jupyter-widgets/base",
            "_view_module_version": "1.2.0",
            "_view_name": "LayoutView",
            "align_content": null,
            "align_items": null,
            "align_self": null,
            "border": null,
            "bottom": null,
            "display": null,
            "flex": null,
            "flex_flow": null,
            "grid_area": null,
            "grid_auto_columns": null,
            "grid_auto_flow": null,
            "grid_auto_rows": null,
            "grid_column": null,
            "grid_gap": null,
            "grid_row": null,
            "grid_template_areas": null,
            "grid_template_columns": null,
            "grid_template_rows": null,
            "height": null,
            "justify_content": null,
            "justify_items": null,
            "left": null,
            "margin": null,
            "max_height": null,
            "max_width": null,
            "min_height": null,
            "min_width": null,
            "object_fit": null,
            "object_position": null,
            "order": null,
            "overflow": null,
            "overflow_x": null,
            "overflow_y": null,
            "padding": null,
            "right": null,
            "top": null,
            "visibility": null,
            "width": null
          }
        },
        "ddf1726530ba44af96b16f0be9f12abd": {
          "model_module": "@jupyter-widgets/controls",
          "model_name": "DescriptionStyleModel",
          "model_module_version": "1.5.0",
          "state": {
            "_model_module": "@jupyter-widgets/controls",
            "_model_module_version": "1.5.0",
            "_model_name": "DescriptionStyleModel",
            "_view_count": null,
            "_view_module": "@jupyter-widgets/base",
            "_view_module_version": "1.2.0",
            "_view_name": "StyleView",
            "description_width": ""
          }
        },
        "9adc393041c94f2eb28f4691cbf3930c": {
          "model_module": "@jupyter-widgets/base",
          "model_name": "LayoutModel",
          "model_module_version": "1.2.0",
          "state": {
            "_model_module": "@jupyter-widgets/base",
            "_model_module_version": "1.2.0",
            "_model_name": "LayoutModel",
            "_view_count": null,
            "_view_module": "@jupyter-widgets/base",
            "_view_module_version": "1.2.0",
            "_view_name": "LayoutView",
            "align_content": null,
            "align_items": null,
            "align_self": null,
            "border": null,
            "bottom": null,
            "display": null,
            "flex": null,
            "flex_flow": null,
            "grid_area": null,
            "grid_auto_columns": null,
            "grid_auto_flow": null,
            "grid_auto_rows": null,
            "grid_column": null,
            "grid_gap": null,
            "grid_row": null,
            "grid_template_areas": null,
            "grid_template_columns": null,
            "grid_template_rows": null,
            "height": null,
            "justify_content": null,
            "justify_items": null,
            "left": null,
            "margin": null,
            "max_height": null,
            "max_width": null,
            "min_height": null,
            "min_width": null,
            "object_fit": null,
            "object_position": null,
            "order": null,
            "overflow": null,
            "overflow_x": null,
            "overflow_y": null,
            "padding": null,
            "right": null,
            "top": null,
            "visibility": null,
            "width": null
          }
        },
        "0ea3080a818d4c549c37a15ee6ff21c3": {
          "model_module": "@jupyter-widgets/controls",
          "model_name": "ProgressStyleModel",
          "model_module_version": "1.5.0",
          "state": {
            "_model_module": "@jupyter-widgets/controls",
            "_model_module_version": "1.5.0",
            "_model_name": "ProgressStyleModel",
            "_view_count": null,
            "_view_module": "@jupyter-widgets/base",
            "_view_module_version": "1.2.0",
            "_view_name": "StyleView",
            "bar_color": null,
            "description_width": ""
          }
        },
        "6315cd5d41524ae9ac133aeb91f97e4f": {
          "model_module": "@jupyter-widgets/base",
          "model_name": "LayoutModel",
          "model_module_version": "1.2.0",
          "state": {
            "_model_module": "@jupyter-widgets/base",
            "_model_module_version": "1.2.0",
            "_model_name": "LayoutModel",
            "_view_count": null,
            "_view_module": "@jupyter-widgets/base",
            "_view_module_version": "1.2.0",
            "_view_name": "LayoutView",
            "align_content": null,
            "align_items": null,
            "align_self": null,
            "border": null,
            "bottom": null,
            "display": null,
            "flex": null,
            "flex_flow": null,
            "grid_area": null,
            "grid_auto_columns": null,
            "grid_auto_flow": null,
            "grid_auto_rows": null,
            "grid_column": null,
            "grid_gap": null,
            "grid_row": null,
            "grid_template_areas": null,
            "grid_template_columns": null,
            "grid_template_rows": null,
            "height": null,
            "justify_content": null,
            "justify_items": null,
            "left": null,
            "margin": null,
            "max_height": null,
            "max_width": null,
            "min_height": null,
            "min_width": null,
            "object_fit": null,
            "object_position": null,
            "order": null,
            "overflow": null,
            "overflow_x": null,
            "overflow_y": null,
            "padding": null,
            "right": null,
            "top": null,
            "visibility": null,
            "width": null
          }
        },
        "3d7c87801f0541948480c40a01193517": {
          "model_module": "@jupyter-widgets/controls",
          "model_name": "DescriptionStyleModel",
          "model_module_version": "1.5.0",
          "state": {
            "_model_module": "@jupyter-widgets/controls",
            "_model_module_version": "1.5.0",
            "_model_name": "DescriptionStyleModel",
            "_view_count": null,
            "_view_module": "@jupyter-widgets/base",
            "_view_module_version": "1.2.0",
            "_view_name": "StyleView",
            "description_width": ""
          }
        },
        "b8b157e552ea4028bbc8a433a204a180": {
          "model_module": "@jupyter-widgets/controls",
          "model_name": "HBoxModel",
          "model_module_version": "1.5.0",
          "state": {
            "_dom_classes": [],
            "_model_module": "@jupyter-widgets/controls",
            "_model_module_version": "1.5.0",
            "_model_name": "HBoxModel",
            "_view_count": null,
            "_view_module": "@jupyter-widgets/controls",
            "_view_module_version": "1.5.0",
            "_view_name": "HBoxView",
            "box_style": "",
            "children": [
              "IPY_MODEL_5d478520aec940cba0a9846c4d56c5fd",
              "IPY_MODEL_897ac0e75a1d4549b2bf32e5d6b8bc80",
              "IPY_MODEL_895a553ba3bf4bbcbb49d6a83bd60faa"
            ],
            "layout": "IPY_MODEL_3f1d9d90ea224bf58bce64ebfab5edb4"
          }
        },
        "5d478520aec940cba0a9846c4d56c5fd": {
          "model_module": "@jupyter-widgets/controls",
          "model_name": "HTMLModel",
          "model_module_version": "1.5.0",
          "state": {
            "_dom_classes": [],
            "_model_module": "@jupyter-widgets/controls",
            "_model_module_version": "1.5.0",
            "_model_name": "HTMLModel",
            "_view_count": null,
            "_view_module": "@jupyter-widgets/controls",
            "_view_module_version": "1.5.0",
            "_view_name": "HTMLView",
            "description": "",
            "description_tooltip": null,
            "layout": "IPY_MODEL_d1455943ad8a4b0f9db04d5002746765",
            "placeholder": "​",
            "style": "IPY_MODEL_bfd5c74ff04a40dab972b511a6c5e1a9",
            "value": "100%"
          }
        },
        "897ac0e75a1d4549b2bf32e5d6b8bc80": {
          "model_module": "@jupyter-widgets/controls",
          "model_name": "FloatProgressModel",
          "model_module_version": "1.5.0",
          "state": {
            "_dom_classes": [],
            "_model_module": "@jupyter-widgets/controls",
            "_model_module_version": "1.5.0",
            "_model_name": "FloatProgressModel",
            "_view_count": null,
            "_view_module": "@jupyter-widgets/controls",
            "_view_module_version": "1.5.0",
            "_view_name": "ProgressView",
            "bar_style": "success",
            "description": "",
            "description_tooltip": null,
            "layout": "IPY_MODEL_57af7baf94534090af5f99bba8d0e94d",
            "max": 15,
            "min": 0,
            "orientation": "horizontal",
            "style": "IPY_MODEL_6111b31491b24643bd39145711c17aa9",
            "value": 15
          }
        },
        "895a553ba3bf4bbcbb49d6a83bd60faa": {
          "model_module": "@jupyter-widgets/controls",
          "model_name": "HTMLModel",
          "model_module_version": "1.5.0",
          "state": {
            "_dom_classes": [],
            "_model_module": "@jupyter-widgets/controls",
            "_model_module_version": "1.5.0",
            "_model_name": "HTMLModel",
            "_view_count": null,
            "_view_module": "@jupyter-widgets/controls",
            "_view_module_version": "1.5.0",
            "_view_name": "HTMLView",
            "description": "",
            "description_tooltip": null,
            "layout": "IPY_MODEL_9f8a780356944e068a3d9759f364a329",
            "placeholder": "​",
            "style": "IPY_MODEL_6d4895bd15c24626965d3ec624ecee21",
            "value": " 15/15 [00:10&lt;00:00,  1.76it/s]"
          }
        },
        "3f1d9d90ea224bf58bce64ebfab5edb4": {
          "model_module": "@jupyter-widgets/base",
          "model_name": "LayoutModel",
          "model_module_version": "1.2.0",
          "state": {
            "_model_module": "@jupyter-widgets/base",
            "_model_module_version": "1.2.0",
            "_model_name": "LayoutModel",
            "_view_count": null,
            "_view_module": "@jupyter-widgets/base",
            "_view_module_version": "1.2.0",
            "_view_name": "LayoutView",
            "align_content": null,
            "align_items": null,
            "align_self": null,
            "border": null,
            "bottom": null,
            "display": null,
            "flex": null,
            "flex_flow": null,
            "grid_area": null,
            "grid_auto_columns": null,
            "grid_auto_flow": null,
            "grid_auto_rows": null,
            "grid_column": null,
            "grid_gap": null,
            "grid_row": null,
            "grid_template_areas": null,
            "grid_template_columns": null,
            "grid_template_rows": null,
            "height": null,
            "justify_content": null,
            "justify_items": null,
            "left": null,
            "margin": null,
            "max_height": null,
            "max_width": null,
            "min_height": null,
            "min_width": null,
            "object_fit": null,
            "object_position": null,
            "order": null,
            "overflow": null,
            "overflow_x": null,
            "overflow_y": null,
            "padding": null,
            "right": null,
            "top": null,
            "visibility": null,
            "width": null
          }
        },
        "d1455943ad8a4b0f9db04d5002746765": {
          "model_module": "@jupyter-widgets/base",
          "model_name": "LayoutModel",
          "model_module_version": "1.2.0",
          "state": {
            "_model_module": "@jupyter-widgets/base",
            "_model_module_version": "1.2.0",
            "_model_name": "LayoutModel",
            "_view_count": null,
            "_view_module": "@jupyter-widgets/base",
            "_view_module_version": "1.2.0",
            "_view_name": "LayoutView",
            "align_content": null,
            "align_items": null,
            "align_self": null,
            "border": null,
            "bottom": null,
            "display": null,
            "flex": null,
            "flex_flow": null,
            "grid_area": null,
            "grid_auto_columns": null,
            "grid_auto_flow": null,
            "grid_auto_rows": null,
            "grid_column": null,
            "grid_gap": null,
            "grid_row": null,
            "grid_template_areas": null,
            "grid_template_columns": null,
            "grid_template_rows": null,
            "height": null,
            "justify_content": null,
            "justify_items": null,
            "left": null,
            "margin": null,
            "max_height": null,
            "max_width": null,
            "min_height": null,
            "min_width": null,
            "object_fit": null,
            "object_position": null,
            "order": null,
            "overflow": null,
            "overflow_x": null,
            "overflow_y": null,
            "padding": null,
            "right": null,
            "top": null,
            "visibility": null,
            "width": null
          }
        },
        "bfd5c74ff04a40dab972b511a6c5e1a9": {
          "model_module": "@jupyter-widgets/controls",
          "model_name": "DescriptionStyleModel",
          "model_module_version": "1.5.0",
          "state": {
            "_model_module": "@jupyter-widgets/controls",
            "_model_module_version": "1.5.0",
            "_model_name": "DescriptionStyleModel",
            "_view_count": null,
            "_view_module": "@jupyter-widgets/base",
            "_view_module_version": "1.2.0",
            "_view_name": "StyleView",
            "description_width": ""
          }
        },
        "57af7baf94534090af5f99bba8d0e94d": {
          "model_module": "@jupyter-widgets/base",
          "model_name": "LayoutModel",
          "model_module_version": "1.2.0",
          "state": {
            "_model_module": "@jupyter-widgets/base",
            "_model_module_version": "1.2.0",
            "_model_name": "LayoutModel",
            "_view_count": null,
            "_view_module": "@jupyter-widgets/base",
            "_view_module_version": "1.2.0",
            "_view_name": "LayoutView",
            "align_content": null,
            "align_items": null,
            "align_self": null,
            "border": null,
            "bottom": null,
            "display": null,
            "flex": null,
            "flex_flow": null,
            "grid_area": null,
            "grid_auto_columns": null,
            "grid_auto_flow": null,
            "grid_auto_rows": null,
            "grid_column": null,
            "grid_gap": null,
            "grid_row": null,
            "grid_template_areas": null,
            "grid_template_columns": null,
            "grid_template_rows": null,
            "height": null,
            "justify_content": null,
            "justify_items": null,
            "left": null,
            "margin": null,
            "max_height": null,
            "max_width": null,
            "min_height": null,
            "min_width": null,
            "object_fit": null,
            "object_position": null,
            "order": null,
            "overflow": null,
            "overflow_x": null,
            "overflow_y": null,
            "padding": null,
            "right": null,
            "top": null,
            "visibility": null,
            "width": null
          }
        },
        "6111b31491b24643bd39145711c17aa9": {
          "model_module": "@jupyter-widgets/controls",
          "model_name": "ProgressStyleModel",
          "model_module_version": "1.5.0",
          "state": {
            "_model_module": "@jupyter-widgets/controls",
            "_model_module_version": "1.5.0",
            "_model_name": "ProgressStyleModel",
            "_view_count": null,
            "_view_module": "@jupyter-widgets/base",
            "_view_module_version": "1.2.0",
            "_view_name": "StyleView",
            "bar_color": null,
            "description_width": ""
          }
        },
        "9f8a780356944e068a3d9759f364a329": {
          "model_module": "@jupyter-widgets/base",
          "model_name": "LayoutModel",
          "model_module_version": "1.2.0",
          "state": {
            "_model_module": "@jupyter-widgets/base",
            "_model_module_version": "1.2.0",
            "_model_name": "LayoutModel",
            "_view_count": null,
            "_view_module": "@jupyter-widgets/base",
            "_view_module_version": "1.2.0",
            "_view_name": "LayoutView",
            "align_content": null,
            "align_items": null,
            "align_self": null,
            "border": null,
            "bottom": null,
            "display": null,
            "flex": null,
            "flex_flow": null,
            "grid_area": null,
            "grid_auto_columns": null,
            "grid_auto_flow": null,
            "grid_auto_rows": null,
            "grid_column": null,
            "grid_gap": null,
            "grid_row": null,
            "grid_template_areas": null,
            "grid_template_columns": null,
            "grid_template_rows": null,
            "height": null,
            "justify_content": null,
            "justify_items": null,
            "left": null,
            "margin": null,
            "max_height": null,
            "max_width": null,
            "min_height": null,
            "min_width": null,
            "object_fit": null,
            "object_position": null,
            "order": null,
            "overflow": null,
            "overflow_x": null,
            "overflow_y": null,
            "padding": null,
            "right": null,
            "top": null,
            "visibility": null,
            "width": null
          }
        },
        "6d4895bd15c24626965d3ec624ecee21": {
          "model_module": "@jupyter-widgets/controls",
          "model_name": "DescriptionStyleModel",
          "model_module_version": "1.5.0",
          "state": {
            "_model_module": "@jupyter-widgets/controls",
            "_model_module_version": "1.5.0",
            "_model_name": "DescriptionStyleModel",
            "_view_count": null,
            "_view_module": "@jupyter-widgets/base",
            "_view_module_version": "1.2.0",
            "_view_name": "StyleView",
            "description_width": ""
          }
        },
        "dcad89fec8a7499b8c5aa83d2c9f27ac": {
          "model_module": "@jupyter-widgets/controls",
          "model_name": "HBoxModel",
          "model_module_version": "1.5.0",
          "state": {
            "_dom_classes": [],
            "_model_module": "@jupyter-widgets/controls",
            "_model_module_version": "1.5.0",
            "_model_name": "HBoxModel",
            "_view_count": null,
            "_view_module": "@jupyter-widgets/controls",
            "_view_module_version": "1.5.0",
            "_view_name": "HBoxView",
            "box_style": "",
            "children": [
              "IPY_MODEL_84fb691a35b640ab88a0cfed0daa3f89",
              "IPY_MODEL_31e2a8b7e8d44d75b3b88f8c6c841151",
              "IPY_MODEL_359eaa4f931a433fbda1367c64286589"
            ],
            "layout": "IPY_MODEL_d4405a8857c04d7d95fe0c61d9d0d35f"
          }
        },
        "84fb691a35b640ab88a0cfed0daa3f89": {
          "model_module": "@jupyter-widgets/controls",
          "model_name": "HTMLModel",
          "model_module_version": "1.5.0",
          "state": {
            "_dom_classes": [],
            "_model_module": "@jupyter-widgets/controls",
            "_model_module_version": "1.5.0",
            "_model_name": "HTMLModel",
            "_view_count": null,
            "_view_module": "@jupyter-widgets/controls",
            "_view_module_version": "1.5.0",
            "_view_name": "HTMLView",
            "description": "",
            "description_tooltip": null,
            "layout": "IPY_MODEL_61863a4335984302b5a9eed76517bbac",
            "placeholder": "​",
            "style": "IPY_MODEL_227e7fd82089491c88d5215da644cb29",
            "value": "100%"
          }
        },
        "31e2a8b7e8d44d75b3b88f8c6c841151": {
          "model_module": "@jupyter-widgets/controls",
          "model_name": "FloatProgressModel",
          "model_module_version": "1.5.0",
          "state": {
            "_dom_classes": [],
            "_model_module": "@jupyter-widgets/controls",
            "_model_module_version": "1.5.0",
            "_model_name": "FloatProgressModel",
            "_view_count": null,
            "_view_module": "@jupyter-widgets/controls",
            "_view_module_version": "1.5.0",
            "_view_name": "ProgressView",
            "bar_style": "success",
            "description": "",
            "description_tooltip": null,
            "layout": "IPY_MODEL_598d54ae2f8a4ef1b66b6458ff44ee4d",
            "max": 15,
            "min": 0,
            "orientation": "horizontal",
            "style": "IPY_MODEL_66c738220b954a55b2c740ec7da98ad0",
            "value": 15
          }
        },
        "359eaa4f931a433fbda1367c64286589": {
          "model_module": "@jupyter-widgets/controls",
          "model_name": "HTMLModel",
          "model_module_version": "1.5.0",
          "state": {
            "_dom_classes": [],
            "_model_module": "@jupyter-widgets/controls",
            "_model_module_version": "1.5.0",
            "_model_name": "HTMLModel",
            "_view_count": null,
            "_view_module": "@jupyter-widgets/controls",
            "_view_module_version": "1.5.0",
            "_view_name": "HTMLView",
            "description": "",
            "description_tooltip": null,
            "layout": "IPY_MODEL_cd8486f978aa44c7aeb40383da3c49c6",
            "placeholder": "​",
            "style": "IPY_MODEL_757238daf3614c02823a1cb7d11facf2",
            "value": " 15/15 [00:10&lt;00:00,  1.75it/s]"
          }
        },
        "d4405a8857c04d7d95fe0c61d9d0d35f": {
          "model_module": "@jupyter-widgets/base",
          "model_name": "LayoutModel",
          "model_module_version": "1.2.0",
          "state": {
            "_model_module": "@jupyter-widgets/base",
            "_model_module_version": "1.2.0",
            "_model_name": "LayoutModel",
            "_view_count": null,
            "_view_module": "@jupyter-widgets/base",
            "_view_module_version": "1.2.0",
            "_view_name": "LayoutView",
            "align_content": null,
            "align_items": null,
            "align_self": null,
            "border": null,
            "bottom": null,
            "display": null,
            "flex": null,
            "flex_flow": null,
            "grid_area": null,
            "grid_auto_columns": null,
            "grid_auto_flow": null,
            "grid_auto_rows": null,
            "grid_column": null,
            "grid_gap": null,
            "grid_row": null,
            "grid_template_areas": null,
            "grid_template_columns": null,
            "grid_template_rows": null,
            "height": null,
            "justify_content": null,
            "justify_items": null,
            "left": null,
            "margin": null,
            "max_height": null,
            "max_width": null,
            "min_height": null,
            "min_width": null,
            "object_fit": null,
            "object_position": null,
            "order": null,
            "overflow": null,
            "overflow_x": null,
            "overflow_y": null,
            "padding": null,
            "right": null,
            "top": null,
            "visibility": null,
            "width": null
          }
        },
        "61863a4335984302b5a9eed76517bbac": {
          "model_module": "@jupyter-widgets/base",
          "model_name": "LayoutModel",
          "model_module_version": "1.2.0",
          "state": {
            "_model_module": "@jupyter-widgets/base",
            "_model_module_version": "1.2.0",
            "_model_name": "LayoutModel",
            "_view_count": null,
            "_view_module": "@jupyter-widgets/base",
            "_view_module_version": "1.2.0",
            "_view_name": "LayoutView",
            "align_content": null,
            "align_items": null,
            "align_self": null,
            "border": null,
            "bottom": null,
            "display": null,
            "flex": null,
            "flex_flow": null,
            "grid_area": null,
            "grid_auto_columns": null,
            "grid_auto_flow": null,
            "grid_auto_rows": null,
            "grid_column": null,
            "grid_gap": null,
            "grid_row": null,
            "grid_template_areas": null,
            "grid_template_columns": null,
            "grid_template_rows": null,
            "height": null,
            "justify_content": null,
            "justify_items": null,
            "left": null,
            "margin": null,
            "max_height": null,
            "max_width": null,
            "min_height": null,
            "min_width": null,
            "object_fit": null,
            "object_position": null,
            "order": null,
            "overflow": null,
            "overflow_x": null,
            "overflow_y": null,
            "padding": null,
            "right": null,
            "top": null,
            "visibility": null,
            "width": null
          }
        },
        "227e7fd82089491c88d5215da644cb29": {
          "model_module": "@jupyter-widgets/controls",
          "model_name": "DescriptionStyleModel",
          "model_module_version": "1.5.0",
          "state": {
            "_model_module": "@jupyter-widgets/controls",
            "_model_module_version": "1.5.0",
            "_model_name": "DescriptionStyleModel",
            "_view_count": null,
            "_view_module": "@jupyter-widgets/base",
            "_view_module_version": "1.2.0",
            "_view_name": "StyleView",
            "description_width": ""
          }
        },
        "598d54ae2f8a4ef1b66b6458ff44ee4d": {
          "model_module": "@jupyter-widgets/base",
          "model_name": "LayoutModel",
          "model_module_version": "1.2.0",
          "state": {
            "_model_module": "@jupyter-widgets/base",
            "_model_module_version": "1.2.0",
            "_model_name": "LayoutModel",
            "_view_count": null,
            "_view_module": "@jupyter-widgets/base",
            "_view_module_version": "1.2.0",
            "_view_name": "LayoutView",
            "align_content": null,
            "align_items": null,
            "align_self": null,
            "border": null,
            "bottom": null,
            "display": null,
            "flex": null,
            "flex_flow": null,
            "grid_area": null,
            "grid_auto_columns": null,
            "grid_auto_flow": null,
            "grid_auto_rows": null,
            "grid_column": null,
            "grid_gap": null,
            "grid_row": null,
            "grid_template_areas": null,
            "grid_template_columns": null,
            "grid_template_rows": null,
            "height": null,
            "justify_content": null,
            "justify_items": null,
            "left": null,
            "margin": null,
            "max_height": null,
            "max_width": null,
            "min_height": null,
            "min_width": null,
            "object_fit": null,
            "object_position": null,
            "order": null,
            "overflow": null,
            "overflow_x": null,
            "overflow_y": null,
            "padding": null,
            "right": null,
            "top": null,
            "visibility": null,
            "width": null
          }
        },
        "66c738220b954a55b2c740ec7da98ad0": {
          "model_module": "@jupyter-widgets/controls",
          "model_name": "ProgressStyleModel",
          "model_module_version": "1.5.0",
          "state": {
            "_model_module": "@jupyter-widgets/controls",
            "_model_module_version": "1.5.0",
            "_model_name": "ProgressStyleModel",
            "_view_count": null,
            "_view_module": "@jupyter-widgets/base",
            "_view_module_version": "1.2.0",
            "_view_name": "StyleView",
            "bar_color": null,
            "description_width": ""
          }
        },
        "cd8486f978aa44c7aeb40383da3c49c6": {
          "model_module": "@jupyter-widgets/base",
          "model_name": "LayoutModel",
          "model_module_version": "1.2.0",
          "state": {
            "_model_module": "@jupyter-widgets/base",
            "_model_module_version": "1.2.0",
            "_model_name": "LayoutModel",
            "_view_count": null,
            "_view_module": "@jupyter-widgets/base",
            "_view_module_version": "1.2.0",
            "_view_name": "LayoutView",
            "align_content": null,
            "align_items": null,
            "align_self": null,
            "border": null,
            "bottom": null,
            "display": null,
            "flex": null,
            "flex_flow": null,
            "grid_area": null,
            "grid_auto_columns": null,
            "grid_auto_flow": null,
            "grid_auto_rows": null,
            "grid_column": null,
            "grid_gap": null,
            "grid_row": null,
            "grid_template_areas": null,
            "grid_template_columns": null,
            "grid_template_rows": null,
            "height": null,
            "justify_content": null,
            "justify_items": null,
            "left": null,
            "margin": null,
            "max_height": null,
            "max_width": null,
            "min_height": null,
            "min_width": null,
            "object_fit": null,
            "object_position": null,
            "order": null,
            "overflow": null,
            "overflow_x": null,
            "overflow_y": null,
            "padding": null,
            "right": null,
            "top": null,
            "visibility": null,
            "width": null
          }
        },
        "757238daf3614c02823a1cb7d11facf2": {
          "model_module": "@jupyter-widgets/controls",
          "model_name": "DescriptionStyleModel",
          "model_module_version": "1.5.0",
          "state": {
            "_model_module": "@jupyter-widgets/controls",
            "_model_module_version": "1.5.0",
            "_model_name": "DescriptionStyleModel",
            "_view_count": null,
            "_view_module": "@jupyter-widgets/base",
            "_view_module_version": "1.2.0",
            "_view_name": "StyleView",
            "description_width": ""
          }
        }
      }
    }
  },
  "nbformat": 4,
  "nbformat_minor": 0
}